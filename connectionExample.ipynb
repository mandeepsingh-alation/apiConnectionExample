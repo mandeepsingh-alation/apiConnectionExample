{
 "cells": [
  {
   "cell_type": "markdown",
   "metadata": {},
   "source": [
    "# Alation API Connection Guide\n",
    "\n",
    "\n",
    "## The following notebook the connection steps to the Alation API.\n",
    "\n",
    "Manual instructions to generate an API token:\n",
    "    \n",
    "    Go to Admin -> Settings → Admin Settings → Misc. There's a button at the bottom that will generate an API token that needs to be saved somewhere so users can reference it.\n",
    "    \n",
    "    NOTE: Whenever you generate a new API token, all previous tokens for that user are invalidated."
   ]
  },
  {
   "cell_type": "code",
   "execution_count": 1,
   "metadata": {},
   "outputs": [],
   "source": [
    "# import libraries\n",
    "import requests\n",
    "import json\n",
    "from authData import *\n",
    "from pprint import pprint"
   ]
  },
  {
   "cell_type": "code",
   "execution_count": 2,
   "metadata": {},
   "outputs": [],
   "source": [
    "# username and password data\n",
    "# NOTE: to avoid displaying personal information as raw text,\n",
    "# you can add these data into a .py file (for this code it is authData.py)\n",
    "data = {'username':USERNAME, 'password':PASSWORD}\n",
    "# set up header with token\n",
    "headers = {'Token':TOKEN}\n",
    "# alation instance information\n",
    "alationInstance = INSTANCE"
   ]
  },
  {
   "cell_type": "code",
   "execution_count": 3,
   "metadata": {},
   "outputs": [],
   "source": [
    "# Get token for user\n",
    "response = requests.get(alationInstance + 'integration/v1/article/', headers=headers)"
   ]
  },
  {
   "cell_type": "code",
   "execution_count": 4,
   "metadata": {},
   "outputs": [],
   "source": [
    "# extract the response text\n",
    "articles = json.loads(response.text)"
   ]
  },
  {
   "cell_type": "code",
   "execution_count": 5,
   "metadata": {},
   "outputs": [
    {
     "name": "stdout",
     "output_type": "stream",
     "text": [
      "{'attachments': [],\n",
      " 'author': {'display_name': 'Rose Dore',\n",
      "            'email': 'ak@alation.com',\n",
      "            'id': 1,\n",
      "            'url': '/user/1/',\n",
      "            'username': 'ak@alation.com'},\n",
      " 'body': '<p>Check out the <a data-oid=\"373\" data-otype=\"article\" '\n",
      "         'href=\"/article/373/\">Onboarding New Users</a> to start your journey. '\n",
      "         'In the article, you will find information on the environment in '\n",
      "         'general, background on the different datasets, and even a '\n",
      "         'step-by-step workshop you can follow to get familiar with '\n",
      "         'Alation.</p><p>Check out the <strong>Quick Start Tour\\xa0'\n",
      "         '</strong>model from the Help drop down menu located at the top right '\n",
      "         'corner. A great way to learn different workflows.</p><p>If you are '\n",
      "         'looking to learn about some of the use cases you might want to test '\n",
      "         'in Alation, take a look at <a data-oid=\"374\" data-otype=\"article\" '\n",
      "         'href=\"https://trialupdate2.trialalation.com/article/374/popular-use-cases\">Popular '\n",
      "         'Use Cases</a></p><p>In order to run queries against the two '\n",
      "         'databases, <a data-oid=\"3\" data-otype=\"data\" '\n",
      "         'href=\"/data/3/\">Healthcare</a> and <a data-oid=\"9\" data-otype=\"data\" '\n",
      "         'href=\"/data/9/\">Education</a>, you will need database credentials. '\n",
      "         'Please talk to your Alation rep for that information.\\xa0</p>',\n",
      " 'children': [{'id': 373,\n",
      "               'otype': 'article',\n",
      "               'title': 'Onboarding New Users',\n",
      "               'url': '/article/373/onboarding-new-users'}],\n",
      " 'custom_fields': [],\n",
      " 'custom_templates': [],\n",
      " 'editors': [{'display_name': 'Steph',\n",
      "              'email': 'stephanie.yuen@alation.com',\n",
      "              'id': 69,\n",
      "              'url': '/user/69/',\n",
      "              'username': 'stephanie.yuen@alation.com'},\n",
      "             {'display_name': 'Ben Lumbert',\n",
      "              'email': 'ben.lumbert@alation.com',\n",
      "              'id': 70,\n",
      "              'url': '/user/70/',\n",
      "              'username': 'ben.lumbert@alation.com'},\n",
      "             {'display_name': 'GT Volpe',\n",
      "              'email': 'gianthomas.tewksbury@alation.com',\n",
      "              'id': 3,\n",
      "              'url': '/user/3/',\n",
      "              'username': 'gianthomas.tewksbury@alation.c'},\n",
      "             {'display_name': 'Rose Dore',\n",
      "              'email': 'ak@alation.com',\n",
      "              'id': 1,\n",
      "              'url': '/user/1/',\n",
      "              'username': 'ak@alation.com'}],\n",
      " 'has_children': True,\n",
      " 'id': 1,\n",
      " 'private': False,\n",
      " 'title': 'Welcome to Alation!',\n",
      " 'ts_created': '2015-05-25T21:55:19.432085Z',\n",
      " 'ts_updated': '2018-10-10T23:14:11.873013Z',\n",
      " 'url': '/article/1/welcome-to-alation'}\n"
     ]
    }
   ],
   "source": [
    "# print result\n",
    "pprint(articles[0])"
   ]
  }
 ],
 "metadata": {
  "kernelspec": {
   "display_name": "Python 3",
   "language": "python",
   "name": "python3"
  },
  "language_info": {
   "codemirror_mode": {
    "name": "ipython",
    "version": 3
   },
   "file_extension": ".py",
   "mimetype": "text/x-python",
   "name": "python",
   "nbconvert_exporter": "python",
   "pygments_lexer": "ipython3",
   "version": "3.7.0"
  }
 },
 "nbformat": 4,
 "nbformat_minor": 2
}
